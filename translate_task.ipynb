{
  "nbformat": 4,
  "nbformat_minor": 0,
  "metadata": {
    "colab": {
      "provenance": [],
      "gpuType": "T4"
    },
    "kernelspec": {
      "name": "python3",
      "display_name": "Python 3"
    },
    "language_info": {
      "name": "python"
    },
    "accelerator": "GPU"
  },
  "cells": [
    {
      "cell_type": "code",
      "source": [
        "!pip install datasets"
      ],
      "metadata": {
        "id": "C5O1qLyXT-Mt"
      },
      "execution_count": null,
      "outputs": []
    },
    {
      "cell_type": "code",
      "source": [
        "import pandas as pd\n",
        "from datasets import load_dataset\n",
        "import torch\n",
        "from torch.utils.data import DataLoader"
      ],
      "metadata": {
        "id": "t3yGwBs9VPID"
      },
      "execution_count": null,
      "outputs": []
    },
    {
      "cell_type": "code",
      "source": [
        "config = {\n",
        "    \"batch_size\": 8,\n",
        "    \"num_epochs\": 20,\n",
        "    \"lr\": 10**-4,\n",
        "    \"seq_len\": 200,\n",
        "    \"d_model\": 512,\n",
        "    \"datasource\": \"Helsinki-NLP/opus-100\",\n",
        "    \"lang_src\": \"en\",\n",
        "    \"lang_tgt\": \"zh\",\n",
        "    \"model_folder\": \"weights\",\n",
        "    \"model_basename\": \"tmodel_\",\n",
        "    \"preload\": \"latest\",\n",
        "    \"tokenizer_file\": \"tokenizer_{0}.json\",\n",
        "    \"experiment_name\": \"runs/tmodel\",\n",
        "}"
      ],
      "metadata": {
        "id": "aVUNaNpkVS2a"
      },
      "execution_count": null,
      "outputs": []
    },
    {
      "cell_type": "code",
      "source": [
        "device = \"cuda\" if torch.cuda.is_available() else \"mps\" if torch.has_mps or torch.backends.mps.is_available() else \"cpu\"\n",
        "print(\"Using device:\", device)\n",
        "if (device == 'cuda'):\n",
        "    print(f\"Device name: {torch.cuda.get_device_name(device.index)}\")\n",
        "    print(f\"Device memory: {torch.cuda.get_device_properties(device.index).total_memory / 1024 ** 3} GB\")\n",
        "elif (device == 'mps'):\n",
        "    print(f\"Device name: <mps>\")\n",
        "else:\n",
        "    print(\"NOTE: If you have a GPU, consider using it for training.\")\n",
        "device = torch.device(device)"
      ],
      "metadata": {
        "colab": {
          "base_uri": "https://localhost:8080/"
        },
        "id": "orS2iVmGpVUs",
        "outputId": "a9c8103f-f1b2-40a3-9e63-30d67a819211"
      },
      "execution_count": null,
      "outputs": [
        {
          "output_type": "stream",
          "name": "stdout",
          "text": [
            "Using device: cpu\n",
            "NOTE: If you have a GPU, consider using it for training.\n"
          ]
        },
        {
          "output_type": "stream",
          "name": "stderr",
          "text": [
            "<ipython-input-4-1e54a1671500>:1: UserWarning: 'has_mps' is deprecated, please use 'torch.backends.mps.is_built()'\n",
            "  device = \"cuda\" if torch.cuda.is_available() else \"mps\" if torch.has_mps or torch.backends.mps.is_available() else \"cpu\"\n"
          ]
        }
      ]
    },
    {
      "cell_type": "code",
      "execution_count": null,
      "metadata": {
        "colab": {
          "base_uri": "https://localhost:8080/"
        },
        "id": "JVHivZkuS-JQ",
        "outputId": "ec544490-6474-4d74-8105-83ab49c0f3ec"
      },
      "outputs": [
        {
          "output_type": "stream",
          "name": "stderr",
          "text": [
            "/usr/local/lib/python3.11/dist-packages/huggingface_hub/utils/_auth.py:94: UserWarning: \n",
            "The secret `HF_TOKEN` does not exist in your Colab secrets.\n",
            "To authenticate with the Hugging Face Hub, create a token in your settings tab (https://huggingface.co/settings/tokens), set it as secret in your Google Colab and restart your session.\n",
            "You will be able to reuse this secret in all of your notebooks.\n",
            "Please note that authentication is recommended but still optional to access public models or datasets.\n",
            "  warnings.warn(\n"
          ]
        },
        {
          "output_type": "stream",
          "name": "stdout",
          "text": [
            "训练集结构: Dataset({\n",
            "    features: ['translation'],\n",
            "    num_rows: 1000000\n",
            "})\n",
            "\n",
            "验证集结构: Dataset({\n",
            "    features: ['translation'],\n",
            "    num_rows: 2000\n",
            "})\n",
            "\n",
            "测试集结构: Dataset({\n",
            "    features: ['translation'],\n",
            "    num_rows: 2000\n",
            "})\n",
            "\n",
            "特征说明: {'translation': Translation(languages=['en', 'zh'], id=None)}\n"
          ]
        }
      ],
      "source": [
        "# 加载原始数据集\n",
        "train_dataset = load_dataset(f\"{config['datasource']}\", f\"{config['lang_src']}-{config['lang_tgt']}\", split='train')\n",
        "val_dataset = load_dataset(f\"{config['datasource']}\", f\"{config['lang_src']}-{config['lang_tgt']}\", split='validation')\n",
        "test_dataset = load_dataset(f\"{config['datasource']}\", f\"{config['lang_src']}-{config['lang_tgt']}\", split='test')\n",
        "\n",
        "print(\"训练集结构:\", train_dataset)\n",
        "print(\"\\n验证集结构:\", val_dataset)\n",
        "print(\"\\n测试集结构:\", test_dataset)\n",
        "\n",
        "# 查看特征结构\n",
        "print(\"\\n特征说明:\", train_dataset.features)"
      ]
    },
    {
      "cell_type": "code",
      "source": [
        "for item in train_dataset.select(range(5)):\n",
        "    print(item[\"translation\"])"
      ],
      "metadata": {
        "colab": {
          "base_uri": "https://localhost:8080/"
        },
        "id": "tc02XBNrTtge",
        "outputId": "ca5d7a90-e19f-4d04-a53e-6ce066521e94"
      },
      "execution_count": null,
      "outputs": [
        {
          "output_type": "stream",
          "name": "stdout",
          "text": [
            "{'en': 'Sixty-first session', 'zh': '第六十一届会议'}\n",
            "{'en': 'I took some medicine for my mu for my mu my muscular for my muscular...', 'zh': '减轻酸... 酸痛的药 减轻酸痛的药'}\n",
            "{'en': \"It's a challenge. God is challenging you. He's calling you a chump.\", 'zh': '上帝在挑战你，他说你是笨蛋'}\n",
            "{'en': 'Oh, baby.', 'zh': '.. 寶貝'}\n",
            "{'en': '- Lucinda?', 'zh': '- 盧辛達？'}\n"
          ]
        }
      ]
    },
    {
      "cell_type": "code",
      "source": [
        "from pathlib import Path\n",
        "from tokenizers import Tokenizer\n",
        "from tokenizers.models import BPE\n",
        "from tokenizers.trainers import BpeTrainer\n",
        "from tokenizers.pre_tokenizers import Whitespace\n",
        "\n",
        "def get_or_build_tokenizer(config, ds, lang):\n",
        "    tokenizer_path = Path(config['tokenizer_file'].format(lang))\n",
        "    if not Path.exists(tokenizer_path):\n",
        "        print(f\"Building tokenizer for {lang}\")\n",
        "        tokenizer = Tokenizer(BPE(unk_token=\"[UNK]\"))\n",
        "        trainer = BpeTrainer(special_tokens=[\"[UNK]\", \"[PAD]\", \"[SOS]\", \"[EOS]\"], min_frequency=2)\n",
        "\n",
        "        tokenizer.pre_tokenizer = Whitespace()\n",
        "\n",
        "        tokenizer.train_from_iterator(ds, trainer=trainer)\n",
        "        tokenizer.save(str(tokenizer_path))\n",
        "    else:\n",
        "        print(f\"Loading tokenizer for {lang}\")\n",
        "        tokenizer = Tokenizer.from_file(str(tokenizer_path))\n",
        "    return tokenizer"
      ],
      "metadata": {
        "id": "gNC1GHSIWhlQ"
      },
      "execution_count": null,
      "outputs": []
    },
    {
      "cell_type": "code",
      "source": [
        "# 提取特定语言的文本数据\n",
        "def extract_text(ds, lang):\n",
        "    return [item['translation'][lang] for item in ds]\n",
        "\n",
        "# 提取训练数据的源语言和目标语言文本\n",
        "train_src_texts = extract_text(train_dataset, config['lang_src'])\n",
        "train_tgt_texts = extract_text(train_dataset, config['lang_tgt'])\n",
        "j\n",
        "# 训练源语言和目标语言的分词器\n",
        "src_tokenizer = get_or_build_tokenizer(config, train_src_texts, config['lang_src'])\n",
        "tgt_tokenizer = get_or_build_tokenizer(config, train_tgt_texts, config['lang_tgt'])"
      ],
      "metadata": {
        "colab": {
          "base_uri": "https://localhost:8080/"
        },
        "id": "VvYWV6P6uWUn",
        "outputId": "a5399460-2a56-4ba3-d525-e86090164752"
      },
      "execution_count": null,
      "outputs": [
        {
          "output_type": "stream",
          "name": "stdout",
          "text": [
            "Loading tokenizer for en\n",
            "Loading tokenizer for zh\n"
          ]
        }
      ]
    },
    {
      "cell_type": "code",
      "source": [
        "def show_tokenization_samples(dataset, en_tokenizer, zh_tokenizer, num_samples=3):\n",
        "    \"\"\"展示英中文本的分词效果\"\"\"\n",
        "    # 随机选择样本以获得更好的代表性\n",
        "    samples = dataset.shuffle().select(range(num_samples))\n",
        "\n",
        "    for i, item in enumerate(samples, 1):\n",
        "        translation = item['translation']\n",
        "        en_text = translation['en']\n",
        "        zh_text = translation['zh']\n",
        "\n",
        "        # 对英文进行分词\n",
        "        en_tokens = en_tokenizer.encode(en_text).tokens\n",
        "        # 对中文进行分词\n",
        "        zh_tokens = zh_tokenizer.encode(zh_text).tokens\n",
        "\n",
        "        print(f\"\\n样本 {i}:\")\n",
        "        print(f\"英文原文: {en_text}\")\n",
        "        print(f\"英文分词: {en_tokens}\")\n",
        "        print(f\"中文原文: {zh_text}\")\n",
        "        print(f\"中文分词: {zh_tokens}\")\n",
        "        print(f\"英文词数: {len(en_tokens)}, 中文字数: {len(zh_tokens)}\")\n",
        "        print(\"-\" * 50)\n",
        "\n",
        "# 使用示例\n",
        "print(\"分词效果展示：\")\n",
        "show_tokenization_samples(train_dataset, src_tokenizer, tgt_tokenizer)"
      ],
      "metadata": {
        "colab": {
          "base_uri": "https://localhost:8080/"
        },
        "id": "ORSeyMZAoprX",
        "outputId": "da309548-715d-469d-e021-181de9a1e36c"
      },
      "execution_count": null,
      "outputs": [
        {
          "output_type": "stream",
          "name": "stdout",
          "text": [
            "分词效果展示：\n",
            "\n",
            "样本 1:\n",
            "英文原文: 3.2 The authors also allege discrimination under article 26 of the Covenant.\n",
            "英文分词: ['3', '.', '2', 'The', 'authors', 'also', 'alle', 'ge', 'discrimination', 'under', 'article', '26', 'of', 'the', 'Covenant', '.']\n",
            "中文原文: 3.2 申诉人还指称存在《公约》第二十六条所指的歧视现象。\n",
            "中文分词: ['3', '.', '2', '申诉人', '还', '指称', '存在', '《', '公约', '》', '第二十六条', '所指', '的歧视', '现象', '。']\n",
            "英文词数: 16, 中文字数: 15\n",
            "--------------------------------------------------\n",
            "\n",
            "样本 2:\n",
            "英文原文: All implementation lies at district and provincial level.\n",
            "英文分词: ['All', 'implementation', 'lies', 'at', 'district', 'and', 'provincial', 'level', '.']\n",
            "中文原文: 所有实施工作均在县和省两级进行。\n",
            "中文分词: ['所有', '实施', '工作', '均', '在', '县', '和', '省', '两级', '进行', '。']\n",
            "英文词数: 9, 中文字数: 11\n",
            "--------------------------------------------------\n",
            "\n",
            "样本 3:\n",
            "英文原文: The executive board shall have the authority to review and audit decisions of the designated operational entities and, to the degree they find that project activities would have been carried out anyway in the absence of the CDM, reject them. ]\n",
            "英文分词: ['The', 'executive', 'board', 'shall', 'have', 'the', 'authority', 'to', 'review', 'and', 'audit', 'decisions', 'of', 'the', 'designated', 'operational', 'entities', 'and', ',', 'to', 'the', 'degree', 'they', 'find', 'that', 'project', 'activities', 'would', 'have', 'been', 'carried', 'out', 'anyway', 'in', 'the', 'absence', 'of', 'the', 'CDM', ',', 'reject', 'them', '.', ']']\n",
            "中文原文: 执行理事会有权审查和审计指定经营实体的决定，并对于其认为如果没有清洁发展机制也会开展的项目活动予以拒绝。]\n",
            "中文分词: ['执行理事会', '有权', '审查和', '审计', '指定', '经营', '实体', '的决定', '，', '并', '对于', '其', '认为', '如果没有', '清洁发展机制', '也会', '开展', '的项目', '活动', '予以', '拒绝', '。]']\n",
            "英文词数: 44, 中文字数: 22\n",
            "--------------------------------------------------\n"
          ]
        }
      ]
    },
    {
      "cell_type": "code",
      "source": [
        "import os\n",
        "from tqdm import tqdm\n",
        "import torch\n",
        "\n",
        "def encode_text(tokenizer, text):\n",
        "    # 使用分词器对文本进行编码\n",
        "    encoding = tokenizer.encode(text).ids\n",
        "    return torch.tensor(encoding, dtype=torch.int64)\n",
        "\n",
        "def encode_dataset(config, dataset, src_tokenizer, tgt_tokenizer):\n",
        "\n",
        "    src_texts = [item['translation'][config['lang_src']] for item in dataset]\n",
        "    tgt_texts = [item['translation'][config['lang_tgt']] for item in dataset]\n",
        "\n",
        "    # 编码源语言和目标语言文本\n",
        "    src_encoded = [encode_text(src_tokenizer, text) for text in tqdm(src_texts, desc=\"Encoding source texts\")]\n",
        "    tgt_encoded = [encode_text(tgt_tokenizer, text) for text in tqdm(tgt_texts, desc=\"Encoding target texts\")]\n",
        "\n",
        "    return src_encoded, tgt_encoded\n",
        "\n",
        "def get_data(config, type, dataset, src_tokenizer, tgt_tokenizer):\n",
        "    data_src, data_tgt = encode_dataset(config, dataset, src_tokenizer, tgt_tokenizer)\n",
        "    return data_src, data_tgt\n",
        "\n",
        "train_data_src, train_data_tgt = get_data(config, \"train\", train_dataset, src_tokenizer, tgt_tokenizer)"
      ],
      "metadata": {
        "colab": {
          "base_uri": "https://localhost:8080/"
        },
        "id": "UtYsdyJb8yz_",
        "outputId": "0393e725-78fd-46da-faf3-ef30802c3bce"
      },
      "execution_count": null,
      "outputs": [
        {
          "output_type": "stream",
          "name": "stderr",
          "text": [
            "Encoding source texts: 100%|██████████| 1000000/1000000 [02:00<00:00, 8320.84it/s]\n",
            "Encoding target texts: 100%|██████████| 1000000/1000000 [01:25<00:00, 11758.61it/s]\n"
          ]
        }
      ]
    },
    {
      "cell_type": "code",
      "source": [
        "# 获取 train_data_src 中所有序列的长度\n",
        "seq_lengths = [tensor.size(0) for tensor in train_data_tgt]\n",
        "\n",
        "# 找到最长的序列长度\n",
        "max_seq_len = max(seq_lengths)\n",
        "\n",
        "print(f\"The longest sequence length in train_data_src is: {max_seq_len}\")"
      ],
      "metadata": {
        "colab": {
          "base_uri": "https://localhost:8080/"
        },
        "id": "Yd5Xj8BfIBQw",
        "outputId": "1f338f8d-4e8c-4a39-d9bd-4ca6b0de9608"
      },
      "execution_count": null,
      "outputs": [
        {
          "output_type": "stream",
          "name": "stdout",
          "text": [
            "The longest sequence length in train_data_src is: 122055\n"
          ]
        }
      ]
    },
    {
      "cell_type": "code",
      "source": [
        "import matplotlib.pyplot as plt\n",
        "import seaborn as sns\n",
        "\n",
        "# 获取 train_data_src 和 train_data_tgt 中所有序列的长度\n",
        "seq_lengths_src = [tensor.size(0) for tensor in train_data_src]\n",
        "seq_lengths_tgt = [tensor.size(0) for tensor in train_data_tgt]\n",
        "\n",
        "# 创建一个包含两个子图的图形\n",
        "fig, axes = plt.subplots(1, 2, figsize=(15, 6))\n",
        "\n",
        "# 绘制 train_data_src 的直方图\n",
        "sns.histplot(sorted(seq_lengths_src)[:-1000], bins=30, kde=True, color='blue', ax=axes[0])\n",
        "axes[0].set_title('Distribution of Sequence Lengths in train_data_src')\n",
        "axes[0].set_xlabel('Sequence Length')\n",
        "axes[0].set_ylabel('Frequency')\n",
        "axes[0].grid(True)\n",
        "\n",
        "# 绘制 train_data_tgt 的直方图\n",
        "sns.histplot(sorted(seq_lengths_tgt)[:-1000], bins=30, kde=True, color='green', ax=axes[1])\n",
        "axes[1].set_title('Distribution of Sequence Lengths in train_data_tgt')\n",
        "axes[1].set_xlabel('Sequence Length')\n",
        "axes[1].set_ylabel('Frequency')\n",
        "axes[1].grid(True)\n",
        "\n",
        "# 显示图形\n",
        "plt.tight_layout()\n",
        "plt.show()"
      ],
      "metadata": {
        "colab": {
          "base_uri": "https://localhost:8080/",
          "height": 476
        },
        "id": "GEI5OI9zNwNe",
        "outputId": "8f405bd6-9a18-4984-d575-51047def8cf6"
      },
      "execution_count": null,
      "outputs": [
        {
          "output_type": "display_data",
          "data": {
            "text/plain": [
              "<Figure size 1500x600 with 2 Axes>"
            ],
            "image/png": "[encoded data removed]"
          },
          "metadata": {}
        }
      ]
    },
    {
      "cell_type": "markdown",
      "source": [
        "可以看出大部分的序列长度在200以内, 选取seq_len = 200"
      ],
      "metadata": {
        "id": "DKVSw66HQSJC"
      }
    },
    {
      "cell_type": "markdown",
      "source": [
        "包装到类BilingualDataset"
      ],
      "metadata": {
        "id": "5ZBCOeWwWoCc"
      }
    },
    {
      "cell_type": "code",
      "source": [
        "import torch\n",
        "import torch.nn as nn\n",
        "from torch.utils.data import Dataset\n",
        "\n",
        "class BilingualDataset(Dataset):\n",
        "\n",
        "    def __init__(self, ds, tokenizer_src, tokenizer_tgt, src_lang, tgt_lang, seq_len):\n",
        "        super().__init__()\n",
        "        self.seq_len = seq_len\n",
        "\n",
        "        self.ds = ds\n",
        "        self.tokenizer_src = tokenizer_src\n",
        "        self.tokenizer_tgt = tokenizer_tgt\n",
        "        self.src_lang = src_lang\n",
        "        self.tgt_lang = tgt_lang\n",
        "\n",
        "        self.sos_token = torch.tensor([tokenizer_tgt.token_to_id(\"[SOS]\")], dtype=torch.int64)\n",
        "        self.eos_token = torch.tensor([tokenizer_tgt.token_to_id(\"[EOS]\")], dtype=torch.int64)\n",
        "        self.pad_token = torch.tensor([tokenizer_tgt.token_to_id(\"[PAD]\")], dtype=torch.int64)\n",
        "\n",
        "    def __len__(self):\n",
        "        return len(self.ds)\n",
        "\n",
        "    def __getitem__(self, idx):\n",
        "        src_target_pair = self.ds[idx]\n",
        "        src_text = src_target_pair['translation'][self.src_lang]\n",
        "        tgt_text = src_target_pair['translation'][self.tgt_lang]\n",
        "\n",
        "        # Transform the text into tokens\n",
        "        enc_input_tokens = self.tokenizer_src.encode(src_text).ids\n",
        "        dec_input_tokens = self.tokenizer_tgt.encode(tgt_text).ids\n",
        "        if len(enc_input_tokens) > self.seq_len - 2:\n",
        "            enc_input_tokens = enc_input_tokens[:self.seq_len - 2]\n",
        "            enc_input_tokens[-1] = self.eos_token\n",
        "        if len(dec_input_tokens) > self.seq_len - 1:\n",
        "            dec_input_tokens = dec_input_tokens[:self.seq_len - 1]\n",
        "            dec_input_tokens[-1] = self.eos_token\n",
        "\n",
        "        # Add sos, eos and padding to each sentence\n",
        "        enc_num_padding_tokens = self.seq_len - len(enc_input_tokens) - 2  # We will add <s> and </s>\n",
        "        # We will only add <s>, and </s> only on the label\n",
        "        dec_num_padding_tokens = self.seq_len - len(dec_input_tokens) - 1\n",
        "\n",
        "        # Make sure the number of padding tokens is not negative. If it is, the sentence is too long\n",
        "        if enc_num_padding_tokens < 0 or dec_num_padding_tokens < 0:\n",
        "            raise ValueError(\"Sentence is too long\")\n",
        "\n",
        "        # Add <s> and </s> token\n",
        "        encoder_input = torch.cat(\n",
        "            [\n",
        "                self.sos_token,\n",
        "                torch.tensor(enc_input_tokens, dtype=torch.int64),\n",
        "                self.eos_token,\n",
        "                torch.tensor([self.pad_token] * enc_num_padding_tokens, dtype=torch.int64),\n",
        "            ],\n",
        "            dim=0,\n",
        "        )\n",
        "\n",
        "        # Add only <s> token\n",
        "        decoder_input = torch.cat(\n",
        "            [\n",
        "                self.sos_token,\n",
        "                torch.tensor(dec_input_tokens, dtype=torch.int64),\n",
        "                torch.tensor([self.pad_token] * dec_num_padding_tokens, dtype=torch.int64),\n",
        "            ],\n",
        "            dim=0,\n",
        "        )\n",
        "\n",
        "        # Add only </s> token\n",
        "        label = torch.cat(\n",
        "            [\n",
        "                torch.tensor(dec_input_tokens, dtype=torch.int64),\n",
        "                self.eos_token,\n",
        "                torch.tensor([self.pad_token] * dec_num_padding_tokens, dtype=torch.int64),\n",
        "            ],\n",
        "            dim=0,\n",
        "        )\n",
        "\n",
        "        # Double check the size of the tensors to make sure they are all seq_len long\n",
        "        assert encoder_input.size(0) == self.seq_len\n",
        "        assert decoder_input.size(0) == self.seq_len\n",
        "        assert label.size(0) == self.seq_len\n",
        "\n",
        "        return {\n",
        "            \"encoder_input\": encoder_input,  # (seq_len)\n",
        "            \"decoder_input\": decoder_input,  # (seq_len)\n",
        "            \"encoder_mask\": (encoder_input != self.pad_token).unsqueeze(0).int(), # (1,  seq_len)\n",
        "            \"decoder_mask\": (decoder_input != self.pad_token).int() & causal_mask(decoder_input.size(0)), # (seq_len) & (seq_len, seq_len),\n",
        "            \"label\": label,  # (seq_len)\n",
        "            \"src_text\": src_text,\n",
        "            \"tgt_text\": tgt_text,\n",
        "        }\n",
        "\n",
        "def causal_mask(size):\n",
        "    mask = torch.triu(torch.ones((size, size)), diagonal=1).type(torch.int)\n",
        "    return mask == 0"
      ],
      "metadata": {
        "id": "Jdi54sm9uN6e"
      },
      "execution_count": null,
      "outputs": []
    },
    {
      "cell_type": "code",
      "source": [
        "train_ds = BilingualDataset(train_dataset, src_tokenizer, tgt_tokenizer, config['lang_src'], config['lang_tgt'], config['seq_len'])\n",
        "val_ds = BilingualDataset(val_dataset, src_tokenizer, tgt_tokenizer, config['lang_src'], config['lang_tgt'], config['seq_len'])"
      ],
      "metadata": {
        "id": "OfcZo1gO_HHB"
      },
      "execution_count": null,
      "outputs": []
    },
    {
      "cell_type": "code",
      "source": [
        "train_dataloader = DataLoader(train_ds, batch_size=config['batch_size'], shuffle=True)\n",
        "val_dataloader = DataLoader(val_ds, batch_size=1, shuffle=True)"
      ],
      "metadata": {
        "id": "9ky-nFlgZc5D"
      },
      "execution_count": null,
      "outputs": []
    },
    {
      "cell_type": "code",
      "source": [
        "batch = next(iter(train_dataloader))\n",
        "print(batch.keys())\n",
        "encoder_input = batch['encoder_input'] # (b, seq_len)\n",
        "decoder_input = batch['decoder_input'] # (B, seq_len)\n",
        "encoder_mask = batch['encoder_mask'] # (B, 1, seq_len)\n",
        "decoder_mask = batch['decoder_mask'] # (B, seq_len, seq_len)\n",
        "label = batch['label'] # (B, seq_len)\n",
        "src_text = batch['src_text']\n",
        "tgt_text = batch['tgt_text']\n",
        "print(f'{encoder_input.shape=}')\n",
        "print(f'{decoder_input.shape=}')\n",
        "print(f'{encoder_mask.shape=}')\n",
        "print(f'{decoder_mask.shape=}')\n",
        "print(f'{label.shape=}')\n",
        "print(src_text[0])\n",
        "print(tgt_text[0])"
      ],
      "metadata": {
        "colab": {
          "base_uri": "https://localhost:8080/"
        },
        "id": "Qu9BUU3EZ2DU",
        "outputId": "0c928690-cee1-4bcc-cbad-a51963144282"
      },
      "execution_count": null,
      "outputs": [
        {
          "output_type": "stream",
          "name": "stdout",
          "text": [
            "dict_keys(['encoder_input', 'decoder_input', 'encoder_mask', 'decoder_mask', 'label', 'src_text', 'tgt_text'])\n",
            "encoder_input.shape=torch.Size([8, 200])\n",
            "decoder_input.shape=torch.Size([8, 200])\n",
            "encoder_mask.shape=torch.Size([8, 1, 200])\n",
            "decoder_mask.shape=torch.Size([8, 200, 200])\n",
            "label.shape=torch.Size([8, 200])\n",
            "Emphasizing the importance for States of protecting and preserving their cultural heritage in accordance with relevant international instruments such as the Convention on the Means of Prohibiting and Preventing the Illicit Import, Export and Transfer of Ownership of Cultural Property, adopted by the United Nations Educational, Scientific and Cultural Organization on 14 November 1970, the Convention on Stolen or Illegally Exported Cultural Objects, adopted at Rome on 24 June 1995 by the International Institute for the Unification of Private Law, and the Convention for the Protection of Cultural Property in the Event of Armed Conflict, adopted at The Hague on 14 May 1954, and the two Protocols thereto of 14 May 1954 and 26 March 1999,\n",
            "强调各国必须根据相关国际文书保护和保存其文化遗产，例如联合国教育、科学及文化组织于1970年11月14日通过的《关于采取措施禁止并防止文化财产非法进出口和所有权非法转让公约》、国际统一私法协会于1995年6月24日在罗马通过的《关于被盗或非法出口文物的公约》和1954年5月14日在海牙通过的《关于在武装冲突的情况下保护文化财产的公约》及其1954年5月14日和1999年3月26日的两项议定书，\n"
          ]
        }
      ]
    },
    {
      "cell_type": "markdown",
      "source": [
        "## 构造模型"
      ],
      "metadata": {
        "id": "R33tgFlJmjNl"
      }
    },
    {
      "cell_type": "code",
      "source": [
        "import torch\n",
        "import torch.nn as nn\n",
        "import math\n",
        "from torch.nn import functional as F\n",
        "\n",
        "class Inputembddings(nn.Module):\n",
        "    def __init__(self, d_model, vocab):\n",
        "        super().__init__()\n",
        "        self.d_model = d_model\n",
        "        self.vocab = vocab\n",
        "        self.embedding = nn.Embedding(vocab, d_model)\n",
        "\n",
        "    def forward(self, x):\n",
        "        return self.embedding(x) * math.sqrt(self.d_model)\n",
        "\n",
        "class PositionalEncoding(nn.Module):\n",
        "    def __init__(self, d_model, seq_len, dropout=0.1):\n",
        "        super().__init__()\n",
        "        self.d_model = d_model\n",
        "        self.seq_len = seq_len\n",
        "        self.dropout = nn.Dropout(dropout)\n",
        "\n",
        "        pe = torch.zeros(seq_len, d_model) # (seq_len, d_model)\n",
        "        position = torch.arange(0, seq_len, dtype=torch.float).unsqueeze(1) # (seq_len, 1)\n",
        "        div_term = torch.exp(torch.arange(0, d_model, 2).float() * (-math.log(10000.0) / d_model)) # (d_model / 2)\n",
        "\n",
        "        pe[:, 0::2]  = torch.sin(position * div_term) # (seq_len, d_model / 2)\n",
        "        pe[:, 1::2]  = torch.cos(position * div_term) # (seq_len, d_model / 2)\n",
        "\n",
        "        pe = pe.unsqueeze(0) # (1, seq_len, d_model)\n",
        "        self.register_buffer('pe', pe)\n",
        "\n",
        "    def forward(self, x):\n",
        "        x = x + (self.pe[:, :x.shape[1], :]).requires_grad_(False)\n",
        "        return self.dropout(x)\n",
        "\n",
        "class LayerNormalization(nn.Module):\n",
        "\n",
        "    def __init__(self, d_model: int, eps=10**-6):\n",
        "        super().__init__()\n",
        "        self.eps = eps\n",
        "        self.alpha = nn.Parameter(torch.ones(d_model))\n",
        "        self.bias = nn.Parameter(torch.zeros(d_model))\n",
        "\n",
        "    def forward(self, x):\n",
        "        # x: (batch, seq_len, hidden_size)\n",
        "        mean = x.mean(dim = -1, keepdim = True) # (batch, seq_len, 1)\n",
        "        std = x.std(dim = -1, keepdim = True) # (batch, seq_len, 1)\n",
        "        return self.alpha * (x - mean) / (std + self.eps) + self.bias\n",
        "\n",
        "class FeedForwardBlock(nn.Module):\n",
        "\n",
        "    def __init__(self, d_model, dropout=0.1) -> None:\n",
        "        super().__init__()\n",
        "        self.linear_1 = nn.Linear(d_model, d_model*4)\n",
        "        self.dropout = nn.Dropout(dropout)\n",
        "        self.linear_2 = nn.Linear(d_model*4, d_model)\n",
        "\n",
        "    def forward(self, x):\n",
        "        # (batch, seq_len, d_model) --> (batch, seq_len, d_ff) --> (batch, seq_len, d_model)\n",
        "        return self.linear_2(self.dropout(torch.relu(self.linear_1(x))))\n",
        "\n",
        "class Head(nn.Module):\n",
        "    \"\"\"one head of self-attention\"\"\"\n",
        "\n",
        "    def __init__(self, d_model, head_size, dropout=0.1):\n",
        "        super().__init__()\n",
        "        self.key = nn.Linear(d_model, head_size, bias=False)\n",
        "        self.query = nn.Linear(d_model, head_size, bias=False)\n",
        "        self.value = nn.Linear(d_model, head_size, bias=False)\n",
        "\n",
        "        self.dropout = nn.Dropout(dropout)\n",
        "\n",
        "    def forward(self, q, k, v, mask):\n",
        "        # input of size (batch, time-step, channels)\n",
        "        # output of size (batch, time-step, head_size)\n",
        "        B, T, C = q.shape\n",
        "        q = self.query(q)  # (B,T,hs)\n",
        "        k = self.key(k)  # (B,T,hs)\n",
        "        # compute attention scores (\"affinities\")\n",
        "        wei = (\n",
        "            q @ k.transpose(-2, -1) * k.shape[-1] ** -0.5\n",
        "        )  # (B, T, hs) @ (B, hs, T) -> (B, T, T)\n",
        "        if mask is not None:\n",
        "            wei = wei.masked_fill(mask == 0, float(\"-inf\"))  # (B, T, T)\n",
        "\n",
        "        wei = F.softmax(wei, dim=-1)  # (B, T, T)\n",
        "        wei = self.dropout(wei)\n",
        "        # perform the weighted aggregation of the values\n",
        "        v = self.value(v)  # (B,T,hs)\n",
        "        out = wei @ v  # (B, T, T) @ (B, T, hs) -> (B, T, hs)\n",
        "        return out\n",
        "\n",
        "class MultiHeadAttention(nn.Module):\n",
        "    \"\"\"multiple heads of self-attention in parallel\"\"\"\n",
        "\n",
        "    def __init__(self, d_model, num_heads, dropout=0.1):\n",
        "        super().__init__()\n",
        "        self.d_model = d_model\n",
        "        self.num_heads = num_heads\n",
        "        assert d_model % num_heads == 0, \"d_model must be divisible by num_heads\"\n",
        "\n",
        "        head_size = d_model // num_heads\n",
        "        self.heads = nn.ModuleList([Head(d_model, head_size) for _ in range(num_heads)])\n",
        "        self.proj = nn.Linear(head_size * num_heads, d_model)\n",
        "        self.dropout = nn.Dropout(dropout)\n",
        "\n",
        "    def forward(self, q, k, v, mask):\n",
        "        out = torch.cat([h(q, k, v, mask) for h in self.heads], dim=-1)\n",
        "        out = self.dropout(self.proj(out))\n",
        "        return out\n",
        "\n",
        "class ResidualConnection(nn.Module):\n",
        "\n",
        "        def __init__(self, d_model, dropout=0.1) -> None:\n",
        "            super().__init__()\n",
        "            self.dropout = nn.Dropout(dropout)\n",
        "            self.norm = LayerNormalization(d_model)\n",
        "\n",
        "        def forward(self, x, sublayer):\n",
        "            return x + self.dropout(sublayer(self.norm(x)))\n",
        "\n",
        "class EncoderBlock(nn.Module):\n",
        "\n",
        "    def __init__(self, d_model, num_heads):\n",
        "        super().__init__()\n",
        "        self.self_attention_block = MultiHeadAttention(d_model, num_heads)\n",
        "        self.feed_forward_block = FeedForwardBlock(d_model)\n",
        "        self.residual_connection1 = ResidualConnection(d_model)\n",
        "        self.residual_connection2 = ResidualConnection(d_model)\n",
        "\n",
        "    def forward(self, x, src_mask):\n",
        "        x = self.residual_connection1(x, lambda x: self.self_attention_block(x, x, x, src_mask))\n",
        "        x = self.residual_connection2(x, self.feed_forward_block)\n",
        "        return x\n",
        "\n",
        "class DecoderBlock(nn.Module):\n",
        "    def __init__(self, d_model, num_heads):\n",
        "        super().__init__()\n",
        "        self.self_attention_block = MultiHeadAttention(d_model, num_heads)\n",
        "        self.cross_attention_block = MultiHeadAttention(d_model, num_heads)\n",
        "        self.feed_forward_block = FeedForwardBlock(d_model)\n",
        "        self.residual_connections = [ResidualConnection(d_model) for _ in range(3)]\n",
        "\n",
        "    def forward(self, x, encoder_out, src_mask, tgt_mask):\n",
        "        x = self.residual_connections[0](x, lambda x: self.self_attention_block(x, x, x, tgt_mask))\n",
        "        x = self.residual_connections[1](x, lambda x: self.cross_attention_block(x, encoder_out, encoder_out, src_mask))\n",
        "        x = self.residual_connections[2](x, self.feed_forward_block)\n",
        "        return x"
      ],
      "metadata": {
        "id": "HyX7Q8c_aSh0"
      },
      "execution_count": null,
      "outputs": []
    },
    {
      "cell_type": "code",
      "source": [
        "class Transformer(nn.Module):\n",
        "    def __init__(self, src_vocab_size, tgt_vocab_size, seq_len, d_model, N=6, num_heads=8):\n",
        "        super().__init__()\n",
        "        self.src_embed = Inputembddings(d_model, src_vocab_size)\n",
        "        self.tgt_embed = Inputembddings(d_model, tgt_vocab_size)\n",
        "        # src and tgt use a single positional encode\n",
        "        self.positional_encoding = PositionalEncoding(d_model, seq_len)\n",
        "\n",
        "        # Create the encoder blocks\n",
        "        self.encoder_blocks = []\n",
        "        for _ in range(N):\n",
        "            encoder_block = EncoderBlock(d_model, num_heads)\n",
        "            self.encoder_blocks.append(encoder_block)\n",
        "\n",
        "        # Create the decoder blocks\n",
        "        self.decoder_blocks = []\n",
        "        for _ in range(N):\n",
        "            decoder_block = DecoderBlock(d_model, num_heads)\n",
        "            self.decoder_blocks.append(decoder_block)\n",
        "\n",
        "        # layer norm\n",
        "        self.ec_norm = LayerNormalization(d_model)\n",
        "        self.dc_norm = LayerNormalization(d_model)\n",
        "\n",
        "        # pro layer\n",
        "        self.projection_layer = nn.Linear(d_model, tgt_vocab_size)\n",
        "\n",
        "        self.apply(self._init_weights)\n",
        "\n",
        "    def _init_weights(self, module):\n",
        "        if isinstance(module, nn.Linear):\n",
        "            torch.nn.init.normal_(module.weight, mean=0.0, std=0.02)\n",
        "            if module.bias is not None:\n",
        "                torch.nn.init.zeros_(module.bias)\n",
        "        elif isinstance(module, nn.Embedding):\n",
        "            torch.nn.init.normal_(module.weight, mean=0.0, std=0.02)\n",
        "\n",
        "    def encode(self, x, src_mask):\n",
        "        x = self.src_embed(x)\n",
        "        x = self.positional_encoding(x)\n",
        "        for encoder_block in self.encoder_blocks:\n",
        "            x = encoder_block(x, src_mask)\n",
        "        return self.ec_norm(x)\n",
        "\n",
        "    def decode(self, x, encoder_out, src_mask, tgt_mask):\n",
        "        x = self.tgt_embed(x)\n",
        "        x = self.positional_encoding(x)\n",
        "        for decoder_block in self.decoder_blocks:\n",
        "            x = decoder_block(x, encoder_out, src_mask, tgt_mask)\n",
        "        return self.dc_norm(x)\n",
        "\n",
        "    def forward(self, src, tgt, src_mask, tgt_mask, target=None):\n",
        "        encoder_out = self.encode(src, src_mask)\n",
        "        decoder_out = self.decode(tgt, encoder_out, src_mask, tgt_mask)\n",
        "        logits = self.projection_layer(decoder_out)\n",
        "        if target is not None:\n",
        "            B, T, C = logits.shape\n",
        "            logits = logits.view(B * T, C)\n",
        "            target = target.view(B * T)\n",
        "            loss = F.cross_entropy(logits, target, ignore_index=0)\n",
        "        else:\n",
        "            loss = None\n",
        "        return logits, loss\n",
        "\n",
        "    def generate(self, src, src_mask, max_len, tgt_tokenizer, device):\n",
        "        memory = self.encode(src, src_mask)\n",
        "        memory = memory.to(device)\n",
        "\n",
        "        decoder_input = torch.ones(1, 1).fill_(1).type(torch.long).to(device)\n",
        "        for i in tqdm(range(max_len - 1), position=0):\n",
        "            decoder_mask = self.causal_mask(i + 1).type(torch.int)\n",
        "            out = self.decode(decoder_input, memory, src_mask, decoder_mask)\n",
        "            prob = self.projection_layer(out[:, -1])\n",
        "            _, next_word = torch.max(prob, dim=1)\n",
        "            decoder_input = torch.cat([decoder_input, torch.ones(1, 1).type_as(src.data).fill_(next_word.item())], dim=1)\n",
        "            if next_word == tgt_tokenizer.token_to_id(\"[EOS]\"):\n",
        "                break\n",
        "        return decoder_input.view(-1)\n",
        "\n",
        "    def causal_mask(self, size):\n",
        "        mask = torch.triu(torch.ones((1, size, size)), diagonal=1).type(torch.int)\n",
        "        return mask == 0"
      ],
      "metadata": {
        "id": "h4yThTpcjD3b"
      },
      "execution_count": null,
      "outputs": []
    },
    {
      "cell_type": "code",
      "source": [
        "model = Transformer(src_tokenizer.get_vocab_size(), tgt_tokenizer.get_vocab_size(), config['seq_len'], config['d_model'])\n",
        "m = model.to(device)"
      ],
      "metadata": {
        "id": "vwFprgScnnoo"
      },
      "execution_count": null,
      "outputs": []
    },
    {
      "cell_type": "code",
      "source": [
        "print(sum(p.numel() for p in m.parameters()) / 1e6, \"M parameters\")"
      ],
      "metadata": {
        "colab": {
          "base_uri": "https://localhost:8080/"
        },
        "id": "X_Bz8TZHonrS",
        "outputId": "27686f65-0edb-4a69-e5d8-95f9e5a94d6a"
      },
      "execution_count": null,
      "outputs": [
        {
          "output_type": "stream",
          "name": "stdout",
          "text": [
            "46.112048 M parameters\n"
          ]
        }
      ]
    },
    {
      "cell_type": "code",
      "source": [
        "optimizer = torch.optim.AdamW(m.parameters(), lr=config['lr'])"
      ],
      "metadata": {
        "id": "OEtfSLiSpk-c"
      },
      "execution_count": null,
      "outputs": []
    },
    {
      "cell_type": "code",
      "source": [
        "from tqdm import tqdm\n",
        "\n",
        "for epoch in range(config['num_epochs']):\n",
        "    torch.cuda.empty_cache()\n",
        "    model.train()\n",
        "    batch_iterator = tqdm(train_dataloader, desc=f\"Processing Epoch {epoch:02d}\")\n",
        "    for batch in batch_iterator:\n",
        "\n",
        "        encoder_input = batch['encoder_input'].to(device) # (b, seq_len)\n",
        "        decoder_input = batch['decoder_input'].to(device) # (B, seq_len)\n",
        "        encoder_mask = batch['encoder_mask'].to(device) # (B, 1, 1, seq_len)\n",
        "        decoder_mask = batch['decoder_mask'].to(device) # (B, 1, seq_len, seq_len)\n",
        "        label = batch['label'].to(device) # (B, seq_len)\n",
        "\n",
        "        # Compute the loss using a simple cross entropy\n",
        "        logits, loss = model(encoder_input, decoder_input, encoder_mask, decoder_mask, label)\n",
        "        batch_iterator.set_postfix({\"loss\": f\"{loss.item():6.3f}\"})\n",
        "\n",
        "        # Backpropagate the loss\n",
        "        loss.backward()\n",
        "\n",
        "        # Update the weights\n",
        "        optimizer.step()\n",
        "        optimizer.zero_grad(set_to_none=True)\n",
        "        break\n",
        "    break"
      ],
      "metadata": {
        "colab": {
          "base_uri": "https://localhost:8080/"
        },
        "id": "P2AfRl11pyQA",
        "outputId": "da0ed01f-ff69-4101-d32d-b3fcee97a958"
      },
      "execution_count": null,
      "outputs": [
        {
          "output_type": "stream",
          "name": "stderr",
          "text": [
            "Processing Epoch 00:   0%|          | 0/125000 [00:16<?, ?it/s, loss=10.645]\n"
          ]
        }
      ]
    },
    {
      "cell_type": "code",
      "source": [
        "@torch.no_grad()\n",
        "def show_test(val_dataloader, model, tgt_tokenizer, early_stop=5):\n",
        "    model.eval()\n",
        "    count = 0\n",
        "    source_texts = []\n",
        "    expected = []\n",
        "    predicted = []\n",
        "\n",
        "    batch_iterator = tqdm(val_dataloader, desc=f\"Processing eval\")\n",
        "\n",
        "    for batch in batch_iterator:\n",
        "        if count > early_stop:\n",
        "            break\n",
        "        count += 1\n",
        "        encoder_input = batch[\"encoder_input\"].to(device) # (b, seq_len)\n",
        "        encoder_mask = batch[\"encoder_mask\"].to(device) # (b, 1, seq_len)\n",
        "\n",
        "        # check that the batch size is 1\n",
        "        assert encoder_input.size(0) == 1, \"Batch size must be 1 for validation\"\n",
        "\n",
        "        model_out = model.generate(encoder_input, encoder_mask, config['seq_len'], tgt_tokenizer, device)\n",
        "\n",
        "        source_text = batch[\"src_text\"][0]\n",
        "        target_text = batch[\"tgt_text\"][0]\n",
        "        model_out_text = tgt_tokenizer.decode(model_out.detach().cpu().numpy())\n",
        "\n",
        "        source_texts.append(source_text)\n",
        "        expected.append(target_text)\n",
        "        predicted.append(model_out_text)\n",
        "\n",
        "    return source_texts, expected, predicted\n",
        "\n",
        "source_texts, expected, predicted = show_test(val_dataloader, model, tgt_tokenizer)\n",
        "print(source_texts[0])\n",
        "print(expected[0])\n",
        "print(predicted[0])"
      ],
      "metadata": {
        "colab": {
          "base_uri": "https://localhost:8080/"
        },
        "id": "VLbnq8PH2xs3",
        "outputId": "f94525aa-b1a2-4180-e224-fc1b0295b13e"
      },
      "execution_count": null,
      "outputs": [
        {
          "output_type": "stream",
          "name": "stderr",
          "text": [
            "  6%|▌         | 11/199 [00:01<00:18,  9.97it/s]\n",
            "  6%|▌         | 11/199 [00:01<00:22,  8.30it/s]\n",
            "  6%|▌         | 11/199 [00:01<00:26,  7.03it/s]\n",
            "  6%|▌         | 11/199 [00:01<00:18, 10.37it/s]\n",
            "  6%|▌         | 11/199 [00:01<00:18, 10.43it/s]\n",
            "  6%|▌         | 11/199 [00:01<00:17, 10.53it/s]\n",
            "Processing eval:   0%|          | 6/2000 [00:08<49:00,  1.47s/it]"
          ]
        },
        {
          "output_type": "stream",
          "name": "stdout",
          "text": [
            "(b) When not less than 20 High Contracting Parties have agreed to accept the competence of the Commission pursuant to paragraph 2, the depositary shall then, and at intervals of five years thereafter, convene a meeting of representatives of those High Contracting Parties for the purpose of electing the members of the Commission.\n",
            "(二) 当缔约各方二十个以上已经按照第二款同意接受调委会的职权时，保存者应于该时及其后每隔五年召开缔约各该方代表会议，以选举调委会委员。\n",
            "只需 监督和 子女的 程度 也应 社区 Sm uary 章节 丫 令人关切 同时也\n"
          ]
        },
        {
          "output_type": "stream",
          "name": "stderr",
          "text": [
            "\n"
          ]
        }
      ]
    },
    {
      "cell_type": "code",
      "source": [
        "@torch.no_grad()\n",
        "def estimate_loss(model, val_dataloader):\n",
        "    model.eval()\n",
        "    losses = []\n",
        "    batch_iterator = tqdm(val_dataloader, desc=f\"Processing eval\")\n",
        "    for batch in batch_iterator:\n",
        "        encoder_input = batch['encoder_input'].to(device) # (b, seq_len)\n",
        "        decoder_input = batch['decoder_input'].to(device) # (B, seq_len)\n",
        "        encoder_mask = batch['encoder_mask'].to(device) # (B, 1,\n",
        "        decoder_mask = batch['decoder_mask'].to(device) # (B,\n",
        "        label = batch['label'].to(device) # (B, seq_len)\n",
        "\n",
        "        # Compute the loss using a simple cross entropy\n",
        "        logits, loss = model(encoder_input, decoder_input, encoder_mask, decoder_mask, label)\n",
        "        losses.append(loss.item())\n",
        "    return sum(losses) / len(losses)\n",
        "\n",
        "print(estimate_loss(model, val_dataloader))"
      ],
      "metadata": {
        "colab": {
          "base_uri": "https://localhost:8080/"
        },
        "id": "9l6GBmvN5snW",
        "outputId": "38419834-efaa-4b56-8d67-5ea08ce06f8a"
      },
      "execution_count": null,
      "outputs": [
        {
          "output_type": "stream",
          "name": "stderr",
          "text": [
            "Processing eval:   0%|          | 0/2000 [00:00<?, ?it/s]"
          ]
        },
        {
          "output_type": "stream",
          "name": "stdout",
          "text": [
            "10.367456436157227\n"
          ]
        },
        {
          "output_type": "stream",
          "name": "stderr",
          "text": [
            "\n"
          ]
        }
      ]
    },
    {
      "cell_type": "code",
      "source": [],
      "metadata": {
        "id": "XTyGFaX4KRL6"
      },
      "execution_count": null,
      "outputs": []
    }
  ]
}